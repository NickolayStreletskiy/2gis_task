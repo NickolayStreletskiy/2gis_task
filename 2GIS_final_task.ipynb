{
 "cells": [
  {
   "cell_type": "code",
   "execution_count": 1,
   "id": "c986be71-19ba-49f0-8757-a5ca7041d51f",
   "metadata": {},
   "outputs": [],
   "source": [
    "import pandas as pd\n",
    "import matplotlib.pyplot as plt"
   ]
  },
  {
   "cell_type": "markdown",
   "id": "32e44d1c-3aa1-4ea5-9266-c36f465d0ca3",
   "metadata": {},
   "source": [
    "# Загрузка датасета"
   ]
  },
  {
   "cell_type": "code",
   "execution_count": 2,
   "id": "ad3f20f1-6e45-428e-87e8-540d9eccb903",
   "metadata": {},
   "outputs": [
    {
     "data": {
      "text/html": [
       "<div>\n",
       "<style scoped>\n",
       "    .dataframe tbody tr th:only-of-type {\n",
       "        vertical-align: middle;\n",
       "    }\n",
       "\n",
       "    .dataframe tbody tr th {\n",
       "        vertical-align: top;\n",
       "    }\n",
       "\n",
       "    .dataframe thead th {\n",
       "        text-align: right;\n",
       "    }\n",
       "</style>\n",
       "<table border=\"1\" class=\"dataframe\">\n",
       "  <thead>\n",
       "    <tr style=\"text-align: right;\">\n",
       "      <th></th>\n",
       "      <th>request</th>\n",
       "      <th>answer</th>\n",
       "      <th>true_false</th>\n",
       "    </tr>\n",
       "  </thead>\n",
       "  <tbody>\n",
       "    <tr>\n",
       "      <th>0</th>\n",
       "      <td>1590973</td>\n",
       "      <td>168299</td>\n",
       "      <td>1</td>\n",
       "    </tr>\n",
       "    <tr>\n",
       "      <th>1</th>\n",
       "      <td>1590973</td>\n",
       "      <td>718560</td>\n",
       "      <td>0</td>\n",
       "    </tr>\n",
       "    <tr>\n",
       "      <th>2</th>\n",
       "      <td>1234953</td>\n",
       "      <td>325828</td>\n",
       "      <td>1</td>\n",
       "    </tr>\n",
       "    <tr>\n",
       "      <th>3</th>\n",
       "      <td>1234953</td>\n",
       "      <td>135968</td>\n",
       "      <td>0</td>\n",
       "    </tr>\n",
       "    <tr>\n",
       "      <th>4</th>\n",
       "      <td>3326557</td>\n",
       "      <td>334526</td>\n",
       "      <td>1</td>\n",
       "    </tr>\n",
       "  </tbody>\n",
       "</table>\n",
       "</div>"
      ],
      "text/plain": [
       "   request  answer  true_false\n",
       "0  1590973  168299           1\n",
       "1  1590973  718560           0\n",
       "2  1234953  325828           1\n",
       "3  1234953  135968           0\n",
       "4  3326557  334526           1"
      ]
     },
     "execution_count": 2,
     "metadata": {},
     "output_type": "execute_result"
    }
   ],
   "source": [
    "t1 = pd.read_csv(\"clicks_dataset_msk.csv\", names=['request', 'answer', 'true_false'])\n",
    "t1.head()"
   ]
  },
  {
   "cell_type": "code",
   "execution_count": 3,
   "id": "27c2a0aa-1764-4e92-af3f-c120a6434aad",
   "metadata": {},
   "outputs": [],
   "source": [
    "#функция для отображения результатов\n",
    "def vizualize(tab, x,y):\n",
    "    tab.plot(x=x, y=y, kind='scatter')\n",
    "    plt.xlabel(x)\n",
    "    plt.ylabel(y)\n",
    "    plt.title(y + \" (\"+ x + \")\" )\n",
    "    plt.show()"
   ]
  },
  {
   "cell_type": "code",
   "execution_count": 19,
   "id": "ef5cf652-d44a-43dd-a55f-7831094fb1c4",
   "metadata": {},
   "outputs": [],
   "source": [
    "#Разделяем на корректные и некорректные выборки\n",
    "t_correct = t1[t1.true_false == 1]\n",
    "t_incorrect = t1[t1.true_false == 0]"
   ]
  },
  {
   "cell_type": "markdown",
   "id": "bf608627-7f37-4618-ac4c-62d5d0ade641",
   "metadata": {},
   "source": [
    "# Анализ пар запрос-ответ"
   ]
  },
  {
   "cell_type": "raw",
   "id": "8601690b-9d34-4d4e-bbaf-bef22081ae75",
   "metadata": {},
   "source": [
    "Посмотрим, насколько корректно формировалась negative sample - для этого проверим,\n",
    "существуют ли пары запрос-ответ, которые попали в обе выборки"
   ]
  },
  {
   "cell_type": "code",
   "execution_count": 22,
   "id": "a2885ddc-ebbb-49eb-89b0-ffcc227ac967",
   "metadata": {},
   "outputs": [
    {
     "data": {
      "text/html": [
       "<div>\n",
       "<style scoped>\n",
       "    .dataframe tbody tr th:only-of-type {\n",
       "        vertical-align: middle;\n",
       "    }\n",
       "\n",
       "    .dataframe tbody tr th {\n",
       "        vertical-align: top;\n",
       "    }\n",
       "\n",
       "    .dataframe thead th {\n",
       "        text-align: right;\n",
       "    }\n",
       "</style>\n",
       "<table border=\"1\" class=\"dataframe\">\n",
       "  <thead>\n",
       "    <tr style=\"text-align: right;\">\n",
       "      <th></th>\n",
       "      <th>true_false</th>\n",
       "      <th>zeros</th>\n",
       "      <th>unos</th>\n",
       "    </tr>\n",
       "    <tr>\n",
       "      <th>request</th>\n",
       "      <th>answer</th>\n",
       "      <th></th>\n",
       "      <th></th>\n",
       "    </tr>\n",
       "  </thead>\n",
       "  <tbody>\n",
       "    <tr>\n",
       "      <th>203168</th>\n",
       "      <th>564481</th>\n",
       "      <td>1</td>\n",
       "      <td>1</td>\n",
       "    </tr>\n",
       "    <tr>\n",
       "      <th>375422</th>\n",
       "      <th>559107</th>\n",
       "      <td>1</td>\n",
       "      <td>1</td>\n",
       "    </tr>\n",
       "    <tr>\n",
       "      <th>413553</th>\n",
       "      <th>508120</th>\n",
       "      <td>1</td>\n",
       "      <td>1</td>\n",
       "    </tr>\n",
       "    <tr>\n",
       "      <th>485280</th>\n",
       "      <th>103381</th>\n",
       "      <td>1</td>\n",
       "      <td>1</td>\n",
       "    </tr>\n",
       "    <tr>\n",
       "      <th>487181</th>\n",
       "      <th>798637</th>\n",
       "      <td>1</td>\n",
       "      <td>1</td>\n",
       "    </tr>\n",
       "    <tr>\n",
       "      <th>...</th>\n",
       "      <th>...</th>\n",
       "      <td>...</td>\n",
       "      <td>...</td>\n",
       "    </tr>\n",
       "    <tr>\n",
       "      <th>4372226</th>\n",
       "      <th>802680</th>\n",
       "      <td>1</td>\n",
       "      <td>1</td>\n",
       "    </tr>\n",
       "    <tr>\n",
       "      <th>4381632</th>\n",
       "      <th>80539</th>\n",
       "      <td>1</td>\n",
       "      <td>1</td>\n",
       "    </tr>\n",
       "    <tr>\n",
       "      <th>4386727</th>\n",
       "      <th>88454</th>\n",
       "      <td>1</td>\n",
       "      <td>1</td>\n",
       "    </tr>\n",
       "    <tr>\n",
       "      <th>4386728</th>\n",
       "      <th>522591</th>\n",
       "      <td>1</td>\n",
       "      <td>1</td>\n",
       "    </tr>\n",
       "    <tr>\n",
       "      <th>4502805</th>\n",
       "      <th>638513</th>\n",
       "      <td>1</td>\n",
       "      <td>1</td>\n",
       "    </tr>\n",
       "  </tbody>\n",
       "</table>\n",
       "<p>1409 rows × 2 columns</p>\n",
       "</div>"
      ],
      "text/plain": [
       "true_false      zeros  unos\n",
       "request answer             \n",
       "203168  564481      1     1\n",
       "375422  559107      1     1\n",
       "413553  508120      1     1\n",
       "485280  103381      1     1\n",
       "487181  798637      1     1\n",
       "...               ...   ...\n",
       "4372226 802680      1     1\n",
       "4381632 80539       1     1\n",
       "4386727 88454       1     1\n",
       "4386728 522591      1     1\n",
       "4502805 638513      1     1\n",
       "\n",
       "[1409 rows x 2 columns]"
      ]
     },
     "execution_count": 22,
     "metadata": {},
     "output_type": "execute_result"
    }
   ],
   "source": [
    "req_ans = t1.groupby(['request', 'answer', 'true_false']).size().unstack(fill_value=0)\n",
    "req_ans = req_ans.rename(columns = {0:\"zeros\", 1:\"unos\"})\n",
    "req_ans[(req_ans[\"zeros\"] > 0) & (req_ans[\"unos\"]>0)]"
   ]
  },
  {
   "cell_type": "raw",
   "id": "81133a5b-17e5-437c-a8f5-2d06a1d3c3f8",
   "metadata": {},
   "source": [
    "Вывод 1:\n",
    "\n",
    "Видим, что при формировании негативной выборки присутствуют проблемы - иногда объекты, которые ставятся \n",
    "в соответствие request, как negative - на самом деле релевантны данному запросу (присутствуют, как positive\n",
    "для данного запроса в других примерах с таким же request). Доля таких ошибок достаточно мала, но с учетом того, что в нашей выборке большинство запросов повторяются малое количество раз - нет гарантий, что при насыщении positive sample - мы не увидим сильно возросшее кол-во таких ошибок"
   ]
  },
  {
   "cell_type": "markdown",
   "id": "6c0a3600-78b8-4451-9704-5fd46547a2db",
   "metadata": {},
   "source": [
    "# Анализ частот запросов"
   ]
  },
  {
   "cell_type": "code",
   "execution_count": 23,
   "id": "8258997b-abfa-4d09-96cb-d25669daa02f",
   "metadata": {},
   "outputs": [
    {
     "name": "stdout",
     "output_type": "stream",
     "text": [
      "Общее количество запросов =  6489941\n",
      "Количество уникальных запросов = 4520364\n",
      "Доля уникальных запросов = 0.7\n"
     ]
    }
   ],
   "source": [
    "#Общая статистика\n",
    "print(\"Общее количество запросов = \", len(t_correct[\"request\"]))\n",
    "print(\"Количество уникальных запросов =\", len(t_correct[\"request\"].unique()))\n",
    "print(\"Доля уникальных запросов =\" , round(len(t_correct[\"request\"].unique()) / len(t_correct[\"request\"]), 2))"
   ]
  },
  {
   "cell_type": "raw",
   "id": "febb2755-cae5-45b5-ba61-3506c7cb1c0c",
   "metadata": {},
   "source": [
    "Рассмотрим распределение частот запросов (freqs : частота возникновения запросов,\n",
    "distr_freqs : кол-во запросов, возникавших с заданной частотой)"
   ]
  },
  {
   "cell_type": "code",
   "execution_count": 45,
   "id": "21d6a2e8-bf1c-48ee-ab32-ae3bb207f7c8",
   "metadata": {},
   "outputs": [
    {
     "data": {
      "text/html": [
       "<div>\n",
       "<style scoped>\n",
       "    .dataframe tbody tr th:only-of-type {\n",
       "        vertical-align: middle;\n",
       "    }\n",
       "\n",
       "    .dataframe tbody tr th {\n",
       "        vertical-align: top;\n",
       "    }\n",
       "\n",
       "    .dataframe thead th {\n",
       "        text-align: right;\n",
       "    }\n",
       "</style>\n",
       "<table border=\"1\" class=\"dataframe\">\n",
       "  <thead>\n",
       "    <tr style=\"text-align: right;\">\n",
       "      <th></th>\n",
       "      <th>freqs</th>\n",
       "      <th>distr_freqs</th>\n",
       "      <th>percent</th>\n",
       "    </tr>\n",
       "  </thead>\n",
       "  <tbody>\n",
       "    <tr>\n",
       "      <th>0</th>\n",
       "      <td>1</td>\n",
       "      <td>4197429</td>\n",
       "      <td>92.86</td>\n",
       "    </tr>\n",
       "    <tr>\n",
       "      <th>1</th>\n",
       "      <td>2</td>\n",
       "      <td>195826</td>\n",
       "      <td>4.33</td>\n",
       "    </tr>\n",
       "    <tr>\n",
       "      <th>2</th>\n",
       "      <td>3</td>\n",
       "      <td>50721</td>\n",
       "      <td>1.12</td>\n",
       "    </tr>\n",
       "    <tr>\n",
       "      <th>3</th>\n",
       "      <td>4</td>\n",
       "      <td>22130</td>\n",
       "      <td>0.49</td>\n",
       "    </tr>\n",
       "    <tr>\n",
       "      <th>4</th>\n",
       "      <td>5</td>\n",
       "      <td>12329</td>\n",
       "      <td>0.27</td>\n",
       "    </tr>\n",
       "    <tr>\n",
       "      <th>...</th>\n",
       "      <td>...</td>\n",
       "      <td>...</td>\n",
       "      <td>...</td>\n",
       "    </tr>\n",
       "    <tr>\n",
       "      <th>797</th>\n",
       "      <td>9842</td>\n",
       "      <td>1</td>\n",
       "      <td>0.00</td>\n",
       "    </tr>\n",
       "    <tr>\n",
       "      <th>798</th>\n",
       "      <td>10932</td>\n",
       "      <td>1</td>\n",
       "      <td>0.00</td>\n",
       "    </tr>\n",
       "    <tr>\n",
       "      <th>799</th>\n",
       "      <td>11281</td>\n",
       "      <td>1</td>\n",
       "      <td>0.00</td>\n",
       "    </tr>\n",
       "    <tr>\n",
       "      <th>800</th>\n",
       "      <td>14297</td>\n",
       "      <td>1</td>\n",
       "      <td>0.00</td>\n",
       "    </tr>\n",
       "    <tr>\n",
       "      <th>801</th>\n",
       "      <td>15932</td>\n",
       "      <td>1</td>\n",
       "      <td>0.00</td>\n",
       "    </tr>\n",
       "  </tbody>\n",
       "</table>\n",
       "<p>802 rows × 3 columns</p>\n",
       "</div>"
      ],
      "text/plain": [
       "     freqs  distr_freqs  percent\n",
       "0        1      4197429    92.86\n",
       "1        2       195826     4.33\n",
       "2        3        50721     1.12\n",
       "3        4        22130     0.49\n",
       "4        5        12329     0.27\n",
       "..     ...          ...      ...\n",
       "797   9842            1     0.00\n",
       "798  10932            1     0.00\n",
       "799  11281            1     0.00\n",
       "800  14297            1     0.00\n",
       "801  15932            1     0.00\n",
       "\n",
       "[802 rows x 3 columns]"
      ]
     },
     "execution_count": 45,
     "metadata": {},
     "output_type": "execute_result"
    }
   ],
   "source": [
    "reqs = t_correct.groupby(\"request\").size().reset_index(name=\"freqs\")\n",
    "reqs = reqs.groupby(\"freqs\").size().reset_index(name=\"distr_freqs\")\n",
    "reqs[\"percent\"] = round(100*reqs[\"distr_freqs\"] / reqs[\"distr_freqs\"].sum(), 2)\n",
    "reqs.sort_values(by = [\"distr_freqs\", \"freqs\"], ascending=[False, True])"
   ]
  },
  {
   "cell_type": "code",
   "execution_count": 49,
   "id": "808bcd37-be98-498d-903d-4d8ee4d2e5bd",
   "metadata": {},
   "outputs": [
    {
     "data": {
      "image/png": "[encoded data removed]",
      "text/plain": [
       "<Figure size 640x480 with 1 Axes>"
      ]
     },
     "metadata": {},
     "output_type": "display_data"
    }
   ],
   "source": [
    "vizualize(reqs, \"freqs\", \"distr_freqs\")"
   ]
  },
  {
   "cell_type": "code",
   "execution_count": 52,
   "id": "be9f6d64-9c84-4e9a-a4be-75ebcd817bc2",
   "metadata": {},
   "outputs": [
    {
     "data": {
      "image/png": "[encoded data removed]",
      "text/plain": [
       "<Figure size 640x480 with 1 Axes>"
      ]
     },
     "metadata": {},
     "output_type": "display_data"
    }
   ],
   "source": [
    "#рассмотрим без самых частотных элементов\n",
    "vizualize(reqs[10:], \"freqs\", \"distr_freqs\")"
   ]
  },
  {
   "cell_type": "code",
   "execution_count": 53,
   "id": "d29e3b96-dccc-4da8-a8b8-1fedb0e9c1ed",
   "metadata": {},
   "outputs": [
    {
     "data": {
      "text/html": [
       "<div>\n",
       "<style scoped>\n",
       "    .dataframe tbody tr th:only-of-type {\n",
       "        vertical-align: middle;\n",
       "    }\n",
       "\n",
       "    .dataframe tbody tr th {\n",
       "        vertical-align: top;\n",
       "    }\n",
       "\n",
       "    .dataframe thead th {\n",
       "        text-align: right;\n",
       "    }\n",
       "</style>\n",
       "<table border=\"1\" class=\"dataframe\">\n",
       "  <thead>\n",
       "    <tr style=\"text-align: right;\">\n",
       "      <th></th>\n",
       "      <th>bucket</th>\n",
       "      <th>count</th>\n",
       "      <th>percent</th>\n",
       "    </tr>\n",
       "  </thead>\n",
       "  <tbody>\n",
       "    <tr>\n",
       "      <th>0</th>\n",
       "      <td>1</td>\n",
       "      <td>4520179</td>\n",
       "      <td>99.995907</td>\n",
       "    </tr>\n",
       "    <tr>\n",
       "      <th>1</th>\n",
       "      <td>2</td>\n",
       "      <td>114</td>\n",
       "      <td>0.002522</td>\n",
       "    </tr>\n",
       "    <tr>\n",
       "      <th>2</th>\n",
       "      <td>3</td>\n",
       "      <td>37</td>\n",
       "      <td>0.000819</td>\n",
       "    </tr>\n",
       "    <tr>\n",
       "      <th>3</th>\n",
       "      <td>4</td>\n",
       "      <td>15</td>\n",
       "      <td>0.000332</td>\n",
       "    </tr>\n",
       "    <tr>\n",
       "      <th>4</th>\n",
       "      <td>5</td>\n",
       "      <td>5</td>\n",
       "      <td>0.000111</td>\n",
       "    </tr>\n",
       "    <tr>\n",
       "      <th>5</th>\n",
       "      <td>6</td>\n",
       "      <td>2</td>\n",
       "      <td>0.000044</td>\n",
       "    </tr>\n",
       "    <tr>\n",
       "      <th>6</th>\n",
       "      <td>7</td>\n",
       "      <td>3</td>\n",
       "      <td>0.000066</td>\n",
       "    </tr>\n",
       "    <tr>\n",
       "      <th>7</th>\n",
       "      <td>8</td>\n",
       "      <td>2</td>\n",
       "      <td>0.000044</td>\n",
       "    </tr>\n",
       "    <tr>\n",
       "      <th>8</th>\n",
       "      <td>10</td>\n",
       "      <td>3</td>\n",
       "      <td>0.000066</td>\n",
       "    </tr>\n",
       "    <tr>\n",
       "      <th>9</th>\n",
       "      <td>11</td>\n",
       "      <td>1</td>\n",
       "      <td>0.000022</td>\n",
       "    </tr>\n",
       "    <tr>\n",
       "      <th>10</th>\n",
       "      <td>12</td>\n",
       "      <td>1</td>\n",
       "      <td>0.000022</td>\n",
       "    </tr>\n",
       "    <tr>\n",
       "      <th>11</th>\n",
       "      <td>15</td>\n",
       "      <td>1</td>\n",
       "      <td>0.000022</td>\n",
       "    </tr>\n",
       "    <tr>\n",
       "      <th>12</th>\n",
       "      <td>16</td>\n",
       "      <td>1</td>\n",
       "      <td>0.000022</td>\n",
       "    </tr>\n",
       "  </tbody>\n",
       "</table>\n",
       "</div>"
      ],
      "text/plain": [
       "    bucket    count    percent\n",
       "0        1  4520179  99.995907\n",
       "1        2      114   0.002522\n",
       "2        3       37   0.000819\n",
       "3        4       15   0.000332\n",
       "4        5        5   0.000111\n",
       "5        6        2   0.000044\n",
       "6        7        3   0.000066\n",
       "7        8        2   0.000044\n",
       "8       10        3   0.000066\n",
       "9       11        1   0.000022\n",
       "10      12        1   0.000022\n",
       "11      15        1   0.000022\n",
       "12      16        1   0.000022"
      ]
     },
     "execution_count": 53,
     "metadata": {},
     "output_type": "execute_result"
    }
   ],
   "source": [
    "#Побьем запросы по бакетам ио 1000-м для лучшей визуализации \n",
    "# (1 бакет : 1-1000 повторений, 2 бакет : 1001-2000 повторений и тд)\n",
    "def bucket_number(freqs):\n",
    "    return (freqs - 1) // 1000 + 1\n",
    "    \n",
    "reqs['bucket'] = reqs['freqs'].apply(bucket_number)\n",
    "sums_by_bucket = reqs.groupby('bucket')['distr_freqs'].sum().reset_index(name=\"count\")\n",
    "sums_by_bucket[\"percent\"] = round(100*sums_by_bucket[\"count\"] / sums_by_bucket[\"count\"].sum(), 6)\n",
    "sums_by_bucket"
   ]
  },
  {
   "cell_type": "code",
   "execution_count": null,
   "id": "2e6ccf9e-54a4-482f-b639-fa54718cefe5",
   "metadata": {},
   "outputs": [],
   "source": [
    "#вывод 2\n",
    "\n",
    "Видим, что запросов, которые ни разу не повтоялись : примерно 93 процента \n",
    "То есть для большинства запросов у нас существует только 1 пара корректных и некорректных ответов\n",
    "запросов, которые повторются более 1 раза : всего 7 процентов, но при этом присутствуют запросы, \n",
    "которые повторялись огромное количество раз (вплоть до ~16000)"
   ]
  },
  {
   "cell_type": "markdown",
   "id": "ae03e538-3dc4-4da8-a927-20f408e57779",
   "metadata": {},
   "source": [
    "# Анализ пар запрос-ответ по корректным и некорректным сэмплам"
   ]
  },
  {
   "cell_type": "raw",
   "id": "aa8fb1f1-024b-4013-9cbc-f210eb2196fe",
   "metadata": {},
   "source": [
    "Рассмотрим теперь распределение ответов по отношению к одинаковым запросам для \n",
    "корректных и некорректных сэмплов отдельно"
   ]
  },
  {
   "cell_type": "code",
   "execution_count": 54,
   "id": "1dadcf08-87d6-4834-a0bc-e1c7bb027170",
   "metadata": {},
   "outputs": [
    {
     "data": {
      "text/html": [
       "<div>\n",
       "<style scoped>\n",
       "    .dataframe tbody tr th:only-of-type {\n",
       "        vertical-align: middle;\n",
       "    }\n",
       "\n",
       "    .dataframe tbody tr th {\n",
       "        vertical-align: top;\n",
       "    }\n",
       "\n",
       "    .dataframe thead th {\n",
       "        text-align: right;\n",
       "    }\n",
       "</style>\n",
       "<table border=\"1\" class=\"dataframe\">\n",
       "  <thead>\n",
       "    <tr style=\"text-align: right;\">\n",
       "      <th></th>\n",
       "      <th>count_pairs</th>\n",
       "      <th>count</th>\n",
       "    </tr>\n",
       "  </thead>\n",
       "  <tbody>\n",
       "    <tr>\n",
       "      <th>0</th>\n",
       "      <td>1</td>\n",
       "      <td>6489941</td>\n",
       "    </tr>\n",
       "  </tbody>\n",
       "</table>\n",
       "</div>"
      ],
      "text/plain": [
       "   count_pairs    count\n",
       "0            1  6489941"
      ]
     },
     "execution_count": 54,
     "metadata": {},
     "output_type": "execute_result"
    }
   ],
   "source": [
    "correct_pairs = t_correct.groupby([\"request\", \"answer\"]).size().reset_index(name=\"count_pairs\")\n",
    "correct_pairs.groupby(\"count_pairs\").size().reset_index(name=\"count\")"
   ]
  },
  {
   "cell_type": "raw",
   "id": "0e0855c1-44a9-4285-b811-74d22f59089b",
   "metadata": {},
   "source": [
    "Видим, что все пары (request - answer) уникальны для корректных requests"
   ]
  },
  {
   "cell_type": "code",
   "execution_count": 55,
   "id": "df7b96df-c7c2-4ff8-a99a-0c1689fa650c",
   "metadata": {},
   "outputs": [
    {
     "data": {
      "text/html": [
       "<div>\n",
       "<style scoped>\n",
       "    .dataframe tbody tr th:only-of-type {\n",
       "        vertical-align: middle;\n",
       "    }\n",
       "\n",
       "    .dataframe tbody tr th {\n",
       "        vertical-align: top;\n",
       "    }\n",
       "\n",
       "    .dataframe thead th {\n",
       "        text-align: right;\n",
       "    }\n",
       "</style>\n",
       "<table border=\"1\" class=\"dataframe\">\n",
       "  <thead>\n",
       "    <tr style=\"text-align: right;\">\n",
       "      <th></th>\n",
       "      <th>count_pairs</th>\n",
       "      <th>count</th>\n",
       "      <th>percent</th>\n",
       "    </tr>\n",
       "  </thead>\n",
       "  <tbody>\n",
       "    <tr>\n",
       "      <th>0</th>\n",
       "      <td>1</td>\n",
       "      <td>6484783</td>\n",
       "      <td>99.96</td>\n",
       "    </tr>\n",
       "    <tr>\n",
       "      <th>1</th>\n",
       "      <td>2</td>\n",
       "      <td>2561</td>\n",
       "      <td>0.04</td>\n",
       "    </tr>\n",
       "    <tr>\n",
       "      <th>2</th>\n",
       "      <td>3</td>\n",
       "      <td>12</td>\n",
       "      <td>0.00</td>\n",
       "    </tr>\n",
       "  </tbody>\n",
       "</table>\n",
       "</div>"
      ],
      "text/plain": [
       "   count_pairs    count  percent\n",
       "0            1  6484783    99.96\n",
       "1            2     2561     0.04\n",
       "2            3       12     0.00"
      ]
     },
     "execution_count": 55,
     "metadata": {},
     "output_type": "execute_result"
    }
   ],
   "source": [
    "incorrect_pairs = t_incorrect.groupby([\"request\", \"answer\"]).size().reset_index(name=\"count_pairs\")\n",
    "incorrect_pairs = incorrect_pairs.groupby(\"count_pairs\").size().reset_index(name=\"count\")\n",
    "incorrect_pairs[\"percent\"] = round(100*incorrect_pairs[\"count\"] / incorrect_pairs[\"count\"].sum(), 2)\n",
    "incorrect_pairs"
   ]
  },
  {
   "cell_type": "raw",
   "id": "951b71c4-2e5a-47f0-a90a-38270146972a",
   "metadata": {},
   "source": [
    "В основном пары запрос-ответ уникальны, но некоторые пары запрос-ответ повторяются до 3 раз"
   ]
  },
  {
   "cell_type": "markdown",
   "id": "4907a862-5e91-482c-bc79-f9e4847cffb6",
   "metadata": {},
   "source": [
    "# Анализ корректного sample"
   ]
  },
  {
   "cell_type": "code",
   "execution_count": 28,
   "id": "4a2534fd-9f8e-4b37-960b-20c4ef42bac2",
   "metadata": {},
   "outputs": [
    {
     "name": "stdout",
     "output_type": "stream",
     "text": [
      "Общее количество корректных ответов =  6489941\n",
      "Количество уникальных корректных ответов = 1005313\n",
      "Доля уникальных корректных ответов = 0.15\n"
     ]
    }
   ],
   "source": [
    "print(\"Общее количество корректных ответов = \", len(t_correct[\"answer\"]))\n",
    "print(\"Количество уникальных корректных ответов =\", len(t_correct[\"answer\"].unique()))\n",
    "print(\"Доля уникальных корректных ответов =\", round(len(t_correct[\"answer\"].unique())/ len(t_correct[\"answer\"]), 2))"
   ]
  },
  {
   "cell_type": "raw",
   "id": "07e371d4-79bd-41ff-9d12-6886244e1ecb",
   "metadata": {},
   "source": [
    "Рассмотрим распределение частот возникновения ответов в корректном sample"
   ]
  },
  {
   "cell_type": "code",
   "execution_count": 57,
   "id": "645be537-d016-4b6b-bf61-bee96fef861d",
   "metadata": {},
   "outputs": [
    {
     "data": {
      "text/html": [
       "<div>\n",
       "<style scoped>\n",
       "    .dataframe tbody tr th:only-of-type {\n",
       "        vertical-align: middle;\n",
       "    }\n",
       "\n",
       "    .dataframe tbody tr th {\n",
       "        vertical-align: top;\n",
       "    }\n",
       "\n",
       "    .dataframe thead th {\n",
       "        text-align: right;\n",
       "    }\n",
       "</style>\n",
       "<table border=\"1\" class=\"dataframe\">\n",
       "  <thead>\n",
       "    <tr style=\"text-align: right;\">\n",
       "      <th></th>\n",
       "      <th>counts</th>\n",
       "      <th>correct_counts</th>\n",
       "      <th>percent</th>\n",
       "    </tr>\n",
       "  </thead>\n",
       "  <tbody>\n",
       "    <tr>\n",
       "      <th>0</th>\n",
       "      <td>1</td>\n",
       "      <td>465022</td>\n",
       "      <td>46.2564</td>\n",
       "    </tr>\n",
       "    <tr>\n",
       "      <th>1</th>\n",
       "      <td>2</td>\n",
       "      <td>141199</td>\n",
       "      <td>14.0453</td>\n",
       "    </tr>\n",
       "    <tr>\n",
       "      <th>2</th>\n",
       "      <td>3</td>\n",
       "      <td>75663</td>\n",
       "      <td>7.5263</td>\n",
       "    </tr>\n",
       "    <tr>\n",
       "      <th>3</th>\n",
       "      <td>4</td>\n",
       "      <td>49922</td>\n",
       "      <td>4.9658</td>\n",
       "    </tr>\n",
       "    <tr>\n",
       "      <th>4</th>\n",
       "      <td>5</td>\n",
       "      <td>36404</td>\n",
       "      <td>3.6212</td>\n",
       "    </tr>\n",
       "    <tr>\n",
       "      <th>...</th>\n",
       "      <td>...</td>\n",
       "      <td>...</td>\n",
       "      <td>...</td>\n",
       "    </tr>\n",
       "    <tr>\n",
       "      <th>655</th>\n",
       "      <td>1926</td>\n",
       "      <td>1</td>\n",
       "      <td>0.0001</td>\n",
       "    </tr>\n",
       "    <tr>\n",
       "      <th>656</th>\n",
       "      <td>1947</td>\n",
       "      <td>1</td>\n",
       "      <td>0.0001</td>\n",
       "    </tr>\n",
       "    <tr>\n",
       "      <th>657</th>\n",
       "      <td>1994</td>\n",
       "      <td>1</td>\n",
       "      <td>0.0001</td>\n",
       "    </tr>\n",
       "    <tr>\n",
       "      <th>658</th>\n",
       "      <td>2698</td>\n",
       "      <td>1</td>\n",
       "      <td>0.0001</td>\n",
       "    </tr>\n",
       "    <tr>\n",
       "      <th>659</th>\n",
       "      <td>2838</td>\n",
       "      <td>1</td>\n",
       "      <td>0.0001</td>\n",
       "    </tr>\n",
       "  </tbody>\n",
       "</table>\n",
       "<p>660 rows × 3 columns</p>\n",
       "</div>"
      ],
      "text/plain": [
       "     counts  correct_counts  percent\n",
       "0         1          465022  46.2564\n",
       "1         2          141199  14.0453\n",
       "2         3           75663   7.5263\n",
       "3         4           49922   4.9658\n",
       "4         5           36404   3.6212\n",
       "..      ...             ...      ...\n",
       "655    1926               1   0.0001\n",
       "656    1947               1   0.0001\n",
       "657    1994               1   0.0001\n",
       "658    2698               1   0.0001\n",
       "659    2838               1   0.0001\n",
       "\n",
       "[660 rows x 3 columns]"
      ]
     },
     "execution_count": 57,
     "metadata": {},
     "output_type": "execute_result"
    }
   ],
   "source": [
    "correct_counts = t_correct.groupby('answer').size().reset_index(name='counts')\n",
    "correct_counts_res = correct_counts.groupby('counts').size().reset_index(name='correct_counts')\n",
    "correct_counts_res[\"percent\"] = round(100*correct_counts_res[\"correct_counts\"] / correct_counts_res[\"correct_counts\"].sum(), 4)\n",
    "correct_counts_res"
   ]
  },
  {
   "cell_type": "code",
   "execution_count": 58,
   "id": "28e589af-18a9-4a72-a269-cee6e4156a5f",
   "metadata": {},
   "outputs": [
    {
     "data": {
      "image/png": "[encoded data removed]",
      "text/plain": [
       "<Figure size 640x480 with 1 Axes>"
      ]
     },
     "metadata": {},
     "output_type": "display_data"
    }
   ],
   "source": [
    "vizualize(correct_counts_res, \"counts\", \"correct_counts\")"
   ]
  },
  {
   "cell_type": "code",
   "execution_count": 59,
   "id": "f06eb704-2c17-42a6-a957-76820a0660d8",
   "metadata": {},
   "outputs": [
    {
     "data": {
      "image/png": "[encoded data removed]",
      "text/plain": [
       "<Figure size 640x480 with 1 Axes>"
      ]
     },
     "metadata": {},
     "output_type": "display_data"
    }
   ],
   "source": [
    "#уберем наиболее частотные значения\n",
    "vizualize(correct_counts_res[5:], \"counts\", \"correct_counts\")"
   ]
  },
  {
   "cell_type": "markdown",
   "id": "d30a247f-4948-458f-b83b-2ff0d89129a7",
   "metadata": {},
   "source": [
    "# Анализ некорректного sample"
   ]
  },
  {
   "cell_type": "code",
   "execution_count": 60,
   "id": "6576680b-89b0-4886-b505-fea2bcbed208",
   "metadata": {},
   "outputs": [
    {
     "name": "stdout",
     "output_type": "stream",
     "text": [
      "Общее количество некорректных ответов =  6489941\n",
      "Количество уникальных некорректных ответов = 460016\n",
      "Доля уникальных некорректных ответов = 0.07\n"
     ]
    }
   ],
   "source": [
    "print(\"Общее количество некорректных ответов = \", len(t_incorrect[\"answer\"]))\n",
    "print(\"Количество уникальных некорректных ответов =\", len(t_incorrect[\"answer\"].unique()))\n",
    "print(\"Доля уникальных некорректных ответов =\", round(len(t_incorrect[\"answer\"].unique())/ len(t_incorrect[\"answer\"]), 2))"
   ]
  },
  {
   "cell_type": "code",
   "execution_count": 61,
   "id": "81b14e18-f110-4c0e-8b84-2caf4e76f904",
   "metadata": {},
   "outputs": [
    {
     "data": {
      "text/html": [
       "<div>\n",
       "<style scoped>\n",
       "    .dataframe tbody tr th:only-of-type {\n",
       "        vertical-align: middle;\n",
       "    }\n",
       "\n",
       "    .dataframe tbody tr th {\n",
       "        vertical-align: top;\n",
       "    }\n",
       "\n",
       "    .dataframe thead th {\n",
       "        text-align: right;\n",
       "    }\n",
       "</style>\n",
       "<table border=\"1\" class=\"dataframe\">\n",
       "  <thead>\n",
       "    <tr style=\"text-align: right;\">\n",
       "      <th></th>\n",
       "      <th>counts</th>\n",
       "      <th>incorrect_counts</th>\n",
       "      <th>percent</th>\n",
       "    </tr>\n",
       "  </thead>\n",
       "  <tbody>\n",
       "    <tr>\n",
       "      <th>0</th>\n",
       "      <td>1</td>\n",
       "      <td>10</td>\n",
       "      <td>0.0022</td>\n",
       "    </tr>\n",
       "    <tr>\n",
       "      <th>1</th>\n",
       "      <td>2</td>\n",
       "      <td>43</td>\n",
       "      <td>0.0093</td>\n",
       "    </tr>\n",
       "    <tr>\n",
       "      <th>2</th>\n",
       "      <td>3</td>\n",
       "      <td>167</td>\n",
       "      <td>0.0363</td>\n",
       "    </tr>\n",
       "    <tr>\n",
       "      <th>3</th>\n",
       "      <td>4</td>\n",
       "      <td>636</td>\n",
       "      <td>0.1383</td>\n",
       "    </tr>\n",
       "    <tr>\n",
       "      <th>4</th>\n",
       "      <td>5</td>\n",
       "      <td>1747</td>\n",
       "      <td>0.3798</td>\n",
       "    </tr>\n",
       "    <tr>\n",
       "      <th>5</th>\n",
       "      <td>6</td>\n",
       "      <td>4034</td>\n",
       "      <td>0.8769</td>\n",
       "    </tr>\n",
       "    <tr>\n",
       "      <th>6</th>\n",
       "      <td>7</td>\n",
       "      <td>8105</td>\n",
       "      <td>1.7619</td>\n",
       "    </tr>\n",
       "    <tr>\n",
       "      <th>7</th>\n",
       "      <td>8</td>\n",
       "      <td>13761</td>\n",
       "      <td>2.9914</td>\n",
       "    </tr>\n",
       "    <tr>\n",
       "      <th>8</th>\n",
       "      <td>9</td>\n",
       "      <td>21502</td>\n",
       "      <td>4.6742</td>\n",
       "    </tr>\n",
       "    <tr>\n",
       "      <th>9</th>\n",
       "      <td>10</td>\n",
       "      <td>29914</td>\n",
       "      <td>6.5028</td>\n",
       "    </tr>\n",
       "  </tbody>\n",
       "</table>\n",
       "</div>"
      ],
      "text/plain": [
       "   counts  incorrect_counts  percent\n",
       "0       1                10   0.0022\n",
       "1       2                43   0.0093\n",
       "2       3               167   0.0363\n",
       "3       4               636   0.1383\n",
       "4       5              1747   0.3798\n",
       "5       6              4034   0.8769\n",
       "6       7              8105   1.7619\n",
       "7       8             13761   2.9914\n",
       "8       9             21502   4.6742\n",
       "9      10             29914   6.5028"
      ]
     },
     "execution_count": 61,
     "metadata": {},
     "output_type": "execute_result"
    }
   ],
   "source": [
    "#рассмотрим распределение частот возникновения ответов в некорректном sample\n",
    "incorrect_counts = t_incorrect.groupby('answer').size().reset_index(name='counts')\n",
    "incorrect_counts_res = incorrect_counts.groupby('counts').size().reset_index(name='incorrect_counts')\n",
    "incorrect_counts_res[\"percent\"] = round(100*incorrect_counts_res[\"incorrect_counts\"] / incorrect_counts_res[\"incorrect_counts\"].sum(), 4)\n",
    "incorrect_counts_res.head(10)"
   ]
  },
  {
   "cell_type": "code",
   "execution_count": 62,
   "id": "7f6d0a74-0efb-46e7-bf34-8da6aa10b609",
   "metadata": {},
   "outputs": [
    {
     "data": {
      "image/png": "[encoded data removed]",
      "text/plain": [
       "<Figure size 640x480 with 1 Axes>"
      ]
     },
     "metadata": {},
     "output_type": "display_data"
    }
   ],
   "source": [
    "vizualize(incorrect_counts_res, \"counts\", \"incorrect_counts\")"
   ]
  },
  {
   "cell_type": "code",
   "execution_count": null,
   "id": "1e259f57-64ff-4af3-b35c-cdcb275d3e93",
   "metadata": {},
   "outputs": [],
   "source": [
    "Вывод 3 : распределения частот ответов - разные для корректного и некоррекного подмножеств\n",
    "Мы видим, что большинство ответов для корректного множества - возникают всего 1 раз, \n",
    "в то время как большинство ответов для некорректного подмножества возникают ~15 раз, \n",
    "при этом максимальное значение возникновения 1 и того же answer в correct sample > 2500, а в некорректном = 35"
   ]
  },
  {
   "cell_type": "markdown",
   "id": "f0bc98c8-2960-4b7b-a327-1f32aad1be49",
   "metadata": {},
   "source": [
    "# Анализ распределения ответов в обоих sample-ах"
   ]
  },
  {
   "cell_type": "code",
   "execution_count": 37,
   "id": "f7b69a59-915d-477f-bf15-94c87d0a01e0",
   "metadata": {},
   "outputs": [
    {
     "data": {
      "text/html": [
       "<div>\n",
       "<style scoped>\n",
       "    .dataframe tbody tr th:only-of-type {\n",
       "        vertical-align: middle;\n",
       "    }\n",
       "\n",
       "    .dataframe tbody tr th {\n",
       "        vertical-align: top;\n",
       "    }\n",
       "\n",
       "    .dataframe thead th {\n",
       "        text-align: right;\n",
       "    }\n",
       "</style>\n",
       "<table border=\"1\" class=\"dataframe\">\n",
       "  <thead>\n",
       "    <tr style=\"text-align: right;\">\n",
       "      <th></th>\n",
       "      <th>zeros</th>\n",
       "      <th>unos</th>\n",
       "      <th>count_p</th>\n",
       "    </tr>\n",
       "  </thead>\n",
       "  <tbody>\n",
       "    <tr>\n",
       "      <th>0</th>\n",
       "      <td>0</td>\n",
       "      <td>1</td>\n",
       "      <td>384337</td>\n",
       "    </tr>\n",
       "    <tr>\n",
       "      <th>1</th>\n",
       "      <td>0</td>\n",
       "      <td>2</td>\n",
       "      <td>94384</td>\n",
       "    </tr>\n",
       "    <tr>\n",
       "      <th>2</th>\n",
       "      <td>0</td>\n",
       "      <td>3</td>\n",
       "      <td>44873</td>\n",
       "    </tr>\n",
       "    <tr>\n",
       "      <th>3</th>\n",
       "      <td>0</td>\n",
       "      <td>4</td>\n",
       "      <td>27608</td>\n",
       "    </tr>\n",
       "    <tr>\n",
       "      <th>4</th>\n",
       "      <td>0</td>\n",
       "      <td>5</td>\n",
       "      <td>19433</td>\n",
       "    </tr>\n",
       "    <tr>\n",
       "      <th>...</th>\n",
       "      <td>...</td>\n",
       "      <td>...</td>\n",
       "      <td>...</td>\n",
       "    </tr>\n",
       "    <tr>\n",
       "      <th>4472</th>\n",
       "      <td>33</td>\n",
       "      <td>2</td>\n",
       "      <td>1</td>\n",
       "    </tr>\n",
       "    <tr>\n",
       "      <th>4473</th>\n",
       "      <td>33</td>\n",
       "      <td>3</td>\n",
       "      <td>1</td>\n",
       "    </tr>\n",
       "    <tr>\n",
       "      <th>4474</th>\n",
       "      <td>33</td>\n",
       "      <td>7</td>\n",
       "      <td>1</td>\n",
       "    </tr>\n",
       "    <tr>\n",
       "      <th>4475</th>\n",
       "      <td>34</td>\n",
       "      <td>4</td>\n",
       "      <td>2</td>\n",
       "    </tr>\n",
       "    <tr>\n",
       "      <th>4476</th>\n",
       "      <td>35</td>\n",
       "      <td>0</td>\n",
       "      <td>1</td>\n",
       "    </tr>\n",
       "  </tbody>\n",
       "</table>\n",
       "<p>4477 rows × 3 columns</p>\n",
       "</div>"
      ],
      "text/plain": [
       "      zeros  unos  count_p\n",
       "0         0     1   384337\n",
       "1         0     2    94384\n",
       "2         0     3    44873\n",
       "3         0     4    27608\n",
       "4         0     5    19433\n",
       "...     ...   ...      ...\n",
       "4472     33     2        1\n",
       "4473     33     3        1\n",
       "4474     33     7        1\n",
       "4475     34     4        2\n",
       "4476     35     0        1\n",
       "\n",
       "[4477 rows x 3 columns]"
      ]
     },
     "execution_count": 37,
     "metadata": {},
     "output_type": "execute_result"
    }
   ],
   "source": [
    "counts_obj = t1.groupby(['answer', 'true_false']).size().unstack(fill_value=0)\n",
    "counts_obj = counts_obj.rename(columns = {0:\"zeros\", 1:\"unos\"})\n",
    "counts_obj2=counts_obj.groupby([\"zeros\", \"unos\"]).size().reset_index(name=\"count_p\")\n",
    "counts_obj2=counts_obj2.sort_values(by=[\"zeros\", \"unos\"], ascending=[True, True])\n",
    "counts_obj2"
   ]
  },
  {
   "cell_type": "code",
   "execution_count": 63,
   "id": "1a5b77c9-1f46-4b4a-935d-ee8dcfaaa1bb",
   "metadata": {},
   "outputs": [
    {
     "name": "stdout",
     "output_type": "stream",
     "text": [
      "Общее количетво ответов = 1154540\n",
      "Процент ответов, которые попали только в correct sample = 60.16\n",
      "Процент ответов, которые попали только в incorrect sample = 12.93\n",
      "Процент ответов, которые представляют оба sample = 26.91\n"
     ]
    }
   ],
   "source": [
    "zeros_0 = counts_obj2[counts_obj2[\"zeros\"] == 0][\"count_p\"].sum()\n",
    "unos_0 = counts_obj2[counts_obj2[\"unos\"] == 0][\"count_p\"].sum()\n",
    "all_s = counts_obj2[\"count_p\"].sum()\n",
    "print(\"Общее количетво ответов =\", all_s)\n",
    "perc_z = round(100*zeros_0 / all_s, 2)\n",
    "perc_u = round(100*unos_0 / all_s, 2)\n",
    "print(\"Процент ответов, которые попали только в correct sample =\", perc_z)\n",
    "print(\"Процент ответов, которые попали только в incorrect sample =\", perc_u)\n",
    "print(\"Процент ответов, которые представляют оба sample =\", round(100 - perc_z - perc_u, 2))"
   ]
  },
  {
   "cell_type": "code",
   "execution_count": null,
   "id": "344676e7-30d6-4bfa-a409-88214d30e323",
   "metadata": {},
   "outputs": [],
   "source": [
    "вывод 4 : большинство ответов присутствует только в классе 1, для них нет примеров их присутствия в негативном sample"
   ]
  },
  {
   "cell_type": "code",
   "execution_count": null,
   "id": "0dc20d95-ab0e-4f4f-92a4-3b83d3b03e09",
   "metadata": {},
   "outputs": [],
   "source": []
  },
  {
   "cell_type": "code",
   "execution_count": null,
   "id": "1e984646-0ff7-4540-9c80-82f7fd2f17bb",
   "metadata": {},
   "outputs": [],
   "source": [
    "Итоговый вывод :\n",
    "1)Метод, по которому каждому запросу ставился в соответствие нерелевантный answer - вызывает сомнения.\n",
    " В датасете присутствуют пары запрос-ответ, которые попадают, как в positive sample, так и в negative sample\n",
    "2)В correct sample не существует идентичных пар request-answer (скорее всего были убраны при помощи drop_duplicates),\n",
    "с учетом 1-го, любая ошибка приводит к ситуации, когда для релевантного ответа существует такая же пара запрос-ответ\n",
    "в incorrect sample\n",
    "3)Распределение answer по correct и incorrect sample - разное, большинство answer присутствует только в \n",
    "correct_sample, пересечение достигается лишь по ~27 процентам answer, при этом и распределение частот так же разное\n",
    "4)Присутствует дисбаланс по requests - большинство запросов встречаются всего 1 раз, но при этом присутствуют \n",
    "запросы, которые встречаются очень большое количество раз - для них обучающая выборка является сильно\n",
    "более представительной, чем для request-ов, которые встречаются малое кол-во раз, что может привести к \n",
    "искаженным значениям метрик на валидации\n",
    "\n",
    "Все эти выводы показывают, что обучающая выборка - не совсем корректна и требует более детальной и \n",
    "тщательной проработки, включая балансировку, более аккуратный метод формирования negative sample и насыщением\n",
    "positive sample. \n",
    "\n",
    "\n",
    "\n"
   ]
  }
 ],
 "metadata": {
  "kernelspec": {
   "display_name": "Python 3 (ipykernel)",
   "language": "python",
   "name": "python3"
  },
  "language_info": {
   "codemirror_mode": {
    "name": "ipython",
    "version": 3
   },
   "file_extension": ".py",
   "mimetype": "text/x-python",
   "name": "python",
   "nbconvert_exporter": "python",
   "pygments_lexer": "ipython3",
   "version": "3.9.6"
  }
 },
 "nbformat": 4,
 "nbformat_minor": 5
}
